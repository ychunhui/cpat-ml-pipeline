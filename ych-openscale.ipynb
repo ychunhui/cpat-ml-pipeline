{
    "cells": [
        {
            "cell_type": "markdown",
            "metadata": {},
            "source": "# Watson OpenScale Mortgage Default Lab"
        },
        {
            "cell_type": "markdown",
            "metadata": {},
            "source": "Part one of a hands-on lab for IBM Watson OpenScale, this notebook should be run in a [Watson Studio](https://dataplatform.ibm.com/) project with Python 3.6 or greater. It requires a free lite version of [Watson Machine Learning](https://cloud.ibm.com/catalog/services/machine-learning).\n\nThis notebook will train, save and deploy a machine learning model to predict mortgage defaults."
        },
        {
            "cell_type": "markdown",
            "metadata": {},
            "source": "## Provision services and create credentials"
        },
        {
            "cell_type": "markdown",
            "metadata": {},
            "source": "You will need credentials for Watson Machine Learning. If you already have a WML instance, you may use credentials for it. To provision a new Lite instance of WML, use the [Cloud catalog](https://cloud.ibm.com/catalog/services/machine-learning), give your service a name, and click **Create**. Once your instance is created, click the **Service Credentials** link on the left side of the screen. Click the **New credential** button, give your credentials a name, and click **Add**. Your new credentials can be accessed by clicking the **View credentials** button. Copy and paste your WML credentials into the cell below."
        },
        {
            "cell_type": "code",
            "execution_count": 1,
            "metadata": {},
            "outputs": [],
            "source": "WML_CREDENTIALS = {\n  \"apikey\": \"ClPV2HAgLhmtNxM7fSpJoVcD-4dEDnHqzdVgAK8uqWgv\",\n  \"iam_apikey_description\": \"Auto-generated for key d0a06315-c1c1-4e1d-9431-eefdb8b06026\",\n  \"iam_apikey_name\": \"Service credentials-cpat-f2f-wml\",\n  \"iam_role_crn\": \"crn:v1:bluemix:public:iam::::serviceRole:Writer\",\n  \"iam_serviceid_crn\": \"crn:v1:bluemix:public:iam-identity::a/82cf08a3d55d4f8fa8266f348d7f4362::serviceid:ServiceId-092953e7-cef8-405a-a3a5-123d5107186d\",\n  \"instance_id\": \"e88e90be-acaa-4350-954a-6d27a9e785bd\",\n  \"url\": \"https://us-south.ml.cloud.ibm.com\"\n}"
        },
        {
            "cell_type": "markdown",
            "metadata": {},
            "source": "## Name your model"
        },
        {
            "cell_type": "markdown",
            "metadata": {},
            "source": "You may give your model and deployment a custom name below; however, if you change the values below, be sure to use the same names in all subsequent notebooks in this lab."
        },
        {
            "cell_type": "code",
            "execution_count": 2,
            "metadata": {},
            "outputs": [],
            "source": "MODEL_NAME = 'Mortgage Default'\nDEPLOYMENT_NAME = 'Mortgage Default - Production'"
        },
        {
            "cell_type": "markdown",
            "metadata": {},
            "source": "## Run the notebook"
        },
        {
            "cell_type": "markdown",
            "metadata": {},
            "source": "At this point, you can run all cells in this notebook using the menus above."
        },
        {
            "cell_type": "markdown",
            "metadata": {},
            "source": "Import the scikit-learn framework and check the version. This notebook was developed using sklearn version 0.20.3."
        },
        {
            "cell_type": "code",
            "execution_count": 3,
            "metadata": {},
            "outputs": [
                {
                    "data": {
                        "text/plain": "'0.20.3'"
                    },
                    "execution_count": 3,
                    "metadata": {},
                    "output_type": "execute_result"
                }
            ],
            "source": "import sklearn\nsklearn.__version__"
        },
        {
            "cell_type": "markdown",
            "metadata": {},
            "source": "Use the provided credentials above to create a new Watson Machine Learning client."
        },
        {
            "cell_type": "code",
            "execution_count": 4,
            "metadata": {},
            "outputs": [],
            "source": "from watson_machine_learning_client import WatsonMachineLearningAPIClient\n\nclient = WatsonMachineLearningAPIClient(WML_CREDENTIALS)"
        },
        {
            "cell_type": "markdown",
            "metadata": {},
            "source": "List all models for this instance of Watson Machine Learning."
        },
        {
            "cell_type": "code",
            "execution_count": 5,
            "metadata": {},
            "outputs": [
                {
                    "name": "stdout",
                    "output_type": "stream",
                    "text": "------------------------------------  --------------------------------------------------  ------------------------  -----------------\nGUID                                  NAME                                                CREATED                   FRAMEWORK\nd9942549-ce2e-4b82-a492-bedeab926c2e  Customer Churn From Notebook - ychunhui demo model  2020-03-14T16:05:16.646Z  scikit-learn-0.20\n1c72c233-186a-4252-aedd-9f8dbd4dab11  GermanCreditRiskModel                               2019-11-15T19:07:37.772Z  mllib-2.3\nf50ac62a-2ab5-4c4b-bbf7-814588e829c8  Cpat-Churn                                          2019-11-14T22:22:11.287Z  spss-modeler-18.1\nac292698-6339-41f2-9d8f-cac5df6fa804  CHURN-SPSS                                          2019-11-14T22:12:43.506Z  spss-modeler-18.1\n------------------------------------  --------------------------------------------------  ------------------------  -----------------\n"
                }
            ],
            "source": "client.repository.list_models()"
        },
        {
            "cell_type": "markdown",
            "metadata": {},
            "source": "Import the pandas library, download and examine our training data. The data contains an 'ID' field for the loan ID, which will not be used in training the model and is dropped."
        },
        {
            "cell_type": "code",
            "execution_count": 6,
            "metadata": {},
            "outputs": [
                {
                    "data": {
                        "text/html": "<div>\n<style scoped>\n    .dataframe tbody tr th:only-of-type {\n        vertical-align: middle;\n    }\n\n    .dataframe tbody tr th {\n        vertical-align: top;\n    }\n\n    .dataframe thead th {\n        text-align: right;\n    }\n</style>\n<table border=\"1\" class=\"dataframe\">\n  <thead>\n    <tr style=\"text-align: right;\">\n      <th></th>\n      <th>Income</th>\n      <th>AppliedOnline</th>\n      <th>Residence</th>\n      <th>Yrs_at_Current_Address</th>\n      <th>Yrs_with_Current_Employer</th>\n      <th>Number_of_Cards</th>\n      <th>Creditcard_Debt</th>\n      <th>Loans</th>\n      <th>Loan_Amount</th>\n      <th>SalePrice</th>\n      <th>Location</th>\n      <th>MortgageDefault</th>\n    </tr>\n  </thead>\n  <tbody>\n    <tr>\n      <th>0</th>\n      <td>45081</td>\n      <td>YES</td>\n      <td>Owner Occupier</td>\n      <td>14</td>\n      <td>15</td>\n      <td>2</td>\n      <td>713</td>\n      <td>1</td>\n      <td>8430</td>\n      <td>140000</td>\n      <td>L110</td>\n      <td>NO</td>\n    </tr>\n    <tr>\n      <th>1</th>\n      <td>46645</td>\n      <td>YES</td>\n      <td>Owner Occupier</td>\n      <td>19</td>\n      <td>4</td>\n      <td>1</td>\n      <td>884</td>\n      <td>0</td>\n      <td>6045</td>\n      <td>475000</td>\n      <td>L110</td>\n      <td>NO</td>\n    </tr>\n    <tr>\n      <th>2</th>\n      <td>44202</td>\n      <td>YES</td>\n      <td>Owner Occupier</td>\n      <td>1</td>\n      <td>23</td>\n      <td>2</td>\n      <td>2611</td>\n      <td>0</td>\n      <td>12915</td>\n      <td>162000</td>\n      <td>L101</td>\n      <td>NO</td>\n    </tr>\n    <tr>\n      <th>3</th>\n      <td>52495</td>\n      <td>YES</td>\n      <td>Owner Occupier</td>\n      <td>18</td>\n      <td>16</td>\n      <td>2</td>\n      <td>2527</td>\n      <td>1</td>\n      <td>10375</td>\n      <td>195000</td>\n      <td>L100</td>\n      <td>YES</td>\n    </tr>\n    <tr>\n      <th>4</th>\n      <td>43608</td>\n      <td>YES</td>\n      <td>Owner Occupier</td>\n      <td>2</td>\n      <td>20</td>\n      <td>1</td>\n      <td>452</td>\n      <td>0</td>\n      <td>7610</td>\n      <td>410000</td>\n      <td>L100</td>\n      <td>YES</td>\n    </tr>\n  </tbody>\n</table>\n</div>",
                        "text/plain": "   Income AppliedOnline       Residence  Yrs_at_Current_Address  \\\n0   45081           YES  Owner Occupier                      14   \n1   46645           YES  Owner Occupier                      19   \n2   44202           YES  Owner Occupier                       1   \n3   52495           YES  Owner Occupier                      18   \n4   43608           YES  Owner Occupier                       2   \n\n   Yrs_with_Current_Employer  Number_of_Cards  Creditcard_Debt  Loans  \\\n0                         15                2              713      1   \n1                          4                1              884      0   \n2                         23                2             2611      0   \n3                         16                2             2527      1   \n4                         20                1              452      0   \n\n   Loan_Amount  SalePrice Location MortgageDefault  \n0         8430     140000     L110              NO  \n1         6045     475000     L110              NO  \n2        12915     162000     L101              NO  \n3        10375     195000     L100             YES  \n4         7610     410000     L100             YES  "
                    },
                    "execution_count": 6,
                    "metadata": {},
                    "output_type": "execute_result"
                }
            ],
            "source": "import pandas as pd\n\nurl = 'https://raw.githubusercontent.com/emartensibm/mortgage-default/master/Mortgage_Full_Records.csv'\ndf_raw = pd.read_csv(url)\ndf = df_raw.drop('ID', axis=1)\ndf.head()"
        },
        {
            "cell_type": "markdown",
            "metadata": {},
            "source": "Import the sklearn libraries we need, including encoders, transformers, scalers, and our random forest classifier."
        },
        {
            "cell_type": "code",
            "execution_count": 7,
            "metadata": {},
            "outputs": [],
            "source": "from sklearn.preprocessing import OneHotEncoder\nfrom sklearn.ensemble import RandomForestClassifier\nfrom sklearn.impute import SimpleImputer\nfrom sklearn.compose import ColumnTransformer\nfrom sklearn.pipeline import Pipeline\nfrom sklearn.metrics import classification_report\nfrom sklearn.model_selection import train_test_split\nfrom sklearn.preprocessing import MinMaxScaler"
        },
        {
            "cell_type": "markdown",
            "metadata": {},
            "source": "Identify the categorical features, and create a one-hot encoder pipeline for them.\n\nNext, identify the numerical features and use the min-max scaler to scale the values, which will significantly increase our model's accuracy.\n\nFinally, organize the categorical encoder and the scaler into a pipeline so the deployed model can work with our data."
        },
        {
            "cell_type": "code",
            "execution_count": 8,
            "metadata": {},
            "outputs": [],
            "source": "categorical_features = ['AppliedOnline','Residence','Location']\ncategorical_transformer = Pipeline(steps=[\n    ('imputer', SimpleImputer(strategy='constant', fill_value='missing')),\n    ('onehot', OneHotEncoder(handle_unknown='ignore'))])\n\nscaled_features = ['Income','Yrs_at_Current_Address','Yrs_with_Current_Employer',\\\n                   'Number_of_Cards','Creditcard_Debt','Loan_Amount','SalePrice']\nscale_transformer = Pipeline(steps=[('scale', MinMaxScaler())])\n\npreprocessor = ColumnTransformer(\n    transformers=[\n        ('cat', categorical_transformer, categorical_features),\n        ('scaler', scale_transformer, scaled_features)\n    ]\n)\n\nclf = Pipeline(steps=[('preprocessor', preprocessor),\n                      ('classifier', RandomForestClassifier())])"
        },
        {
            "cell_type": "markdown",
            "metadata": {},
            "source": "Perform the train/test split, train the model, and score the model quality."
        },
        {
            "cell_type": "code",
            "execution_count": 9,
            "metadata": {},
            "outputs": [
                {
                    "name": "stdout",
                    "output_type": "stream",
                    "text": "model score: 0.821\n              precision    recall  f1-score   support\n\n       False       0.89      0.80      0.85        51\n        True       0.74      0.85      0.79        33\n\n   micro avg       0.82      0.82      0.82        84\n   macro avg       0.81      0.83      0.82        84\nweighted avg       0.83      0.82      0.82        84\n\n"
                }
            ],
            "source": "X = df.drop('MortgageDefault', axis=1)\ny = df['MortgageDefault']\n\nX_train, X_test, y_train, y_test = train_test_split( X, y, test_size=0.2, random_state=4)\n\nmodel = clf.fit(X_train, y_train)\nres_predict = model.predict(X_test)\nprint(\"model score: %.3f\" % clf.score(X_test, y_test))\nprint(classification_report(y_test, res_predict, target_names=[\"False\", \"True\"]))"
        },
        {
            "cell_type": "markdown",
            "metadata": {},
            "source": "## Save the model to Watson Machine Learning"
        },
        {
            "cell_type": "markdown",
            "metadata": {},
            "source": "Check the list of models in the WML instance, and remove pre-existing versions of this model. This allows the notebook to be re-run to reset all data if necessary."
        },
        {
            "cell_type": "code",
            "execution_count": 10,
            "metadata": {},
            "outputs": [
                {
                    "name": "stdout",
                    "output_type": "stream",
                    "text": "------------------------------------  --------------------------------------------------  ------------------------  -----------------\nGUID                                  NAME                                                CREATED                   FRAMEWORK\nd9942549-ce2e-4b82-a492-bedeab926c2e  Customer Churn From Notebook - ychunhui demo model  2020-03-14T16:05:16.646Z  scikit-learn-0.20\n1c72c233-186a-4252-aedd-9f8dbd4dab11  GermanCreditRiskModel                               2019-11-15T19:07:37.772Z  mllib-2.3\nf50ac62a-2ab5-4c4b-bbf7-814588e829c8  Cpat-Churn                                          2019-11-14T22:22:11.287Z  spss-modeler-18.1\nac292698-6339-41f2-9d8f-cac5df6fa804  CHURN-SPSS                                          2019-11-14T22:12:43.506Z  spss-modeler-18.1\n------------------------------------  --------------------------------------------------  ------------------------  -----------------\n"
                }
            ],
            "source": "model_deployment_ids = client.deployments.get_uids()\nfor deployment_id in model_deployment_ids:\n    deployment = client.deployments.get_details(deployment_id)\n    model_id = deployment['entity']['deployable_asset']['guid']\n    if deployment['entity']['name'] == DEPLOYMENT_NAME:\n        print('Deleting deployment id', deployment_id)\n        client.deployments.delete(deployment_id)\n        print('Deleting model id', model_id)\n        client.repository.delete(model_id)\nclient.repository.list_models()"
        },
        {
            "cell_type": "markdown",
            "metadata": {},
            "source": "Create the metadata and save the model."
        },
        {
            "cell_type": "code",
            "execution_count": 11,
            "metadata": {},
            "outputs": [
                {
                    "data": {
                        "text/plain": "{'metadata': {'guid': 'b57f0bbd-c9f0-4145-b5de-b46097b44186',\n  'url': 'https://us-south.ml.cloud.ibm.com/v3/wml_instances/e88e90be-acaa-4350-954a-6d27a9e785bd/published_models/b57f0bbd-c9f0-4145-b5de-b46097b44186',\n  'created_at': '2020-03-17T01:51:41.611Z',\n  'modified_at': '2020-03-17T01:51:41.674Z'},\n 'entity': {'runtime_environment': 'python-3.6',\n  'learning_configuration_url': 'https://us-south.ml.cloud.ibm.com/v3/wml_instances/e88e90be-acaa-4350-954a-6d27a9e785bd/published_models/b57f0bbd-c9f0-4145-b5de-b46097b44186/learning_configuration',\n  'name': 'Mortgage Default',\n  'label_col': 'MortgageDefault',\n  'learning_iterations_url': 'https://us-south.ml.cloud.ibm.com/v3/wml_instances/e88e90be-acaa-4350-954a-6d27a9e785bd/published_models/b57f0bbd-c9f0-4145-b5de-b46097b44186/learning_iterations',\n  'training_data_schema': {'features': {'type': 'DataFrame',\n    'fields': [{'name': 'Income', 'type': 'int64'},\n     {'name': 'AppliedOnline', 'type': 'object'},\n     {'name': 'Residence', 'type': 'object'},\n     {'name': 'Yrs_at_Current_Address', 'type': 'int64'},\n     {'name': 'Yrs_with_Current_Employer', 'type': 'int64'},\n     {'name': 'Number_of_Cards', 'type': 'int64'},\n     {'name': 'Creditcard_Debt', 'type': 'int64'},\n     {'name': 'Loans', 'type': 'int64'},\n     {'name': 'Loan_Amount', 'type': 'int64'},\n     {'name': 'SalePrice', 'type': 'int64'},\n     {'name': 'Location', 'type': 'object'}]},\n   'labels': {'type': 'Series',\n    'fields': [{'name': 'MortgageDefault', 'type': 'object'}]}},\n  'feedback_url': 'https://us-south.ml.cloud.ibm.com/v3/wml_instances/e88e90be-acaa-4350-954a-6d27a9e785bd/published_models/b57f0bbd-c9f0-4145-b5de-b46097b44186/feedback',\n  'latest_version': {'url': 'https://us-south.ml.cloud.ibm.com/v3/ml_assets/models/b57f0bbd-c9f0-4145-b5de-b46097b44186/versions/200fc005-f097-4519-9cfe-9f17033b2ab6',\n   'guid': '200fc005-f097-4519-9cfe-9f17033b2ab6',\n   'created_at': '2020-03-17T01:51:41.674Z'},\n  'model_type': 'scikit-learn-0.20',\n  'deployments': {'count': 0,\n   'url': 'https://us-south.ml.cloud.ibm.com/v3/wml_instances/e88e90be-acaa-4350-954a-6d27a9e785bd/published_models/b57f0bbd-c9f0-4145-b5de-b46097b44186/deployments'},\n  'evaluation_metrics_url': 'https://us-south.ml.cloud.ibm.com/v3/wml_instances/e88e90be-acaa-4350-954a-6d27a9e785bd/published_models/b57f0bbd-c9f0-4145-b5de-b46097b44186/evaluation_metrics',\n  'input_data_schema': {'features': {'type': 'DataFrame',\n    'fields': [{'name': 'Income', 'type': 'int64'},\n     {'name': 'AppliedOnline', 'type': 'object'},\n     {'name': 'Residence', 'type': 'object'},\n     {'name': 'Yrs_at_Current_Address', 'type': 'int64'},\n     {'name': 'Yrs_with_Current_Employer', 'type': 'int64'},\n     {'name': 'Number_of_Cards', 'type': 'int64'},\n     {'name': 'Creditcard_Debt', 'type': 'int64'},\n     {'name': 'Loans', 'type': 'int64'},\n     {'name': 'Loan_Amount', 'type': 'int64'},\n     {'name': 'SalePrice', 'type': 'int64'},\n     {'name': 'Location', 'type': 'object'}]},\n   'labels': {'type': 'Series',\n    'fields': [{'name': 'MortgageDefault', 'type': 'object'}]}}}}"
                    },
                    "execution_count": 11,
                    "metadata": {},
                    "output_type": "execute_result"
                }
            ],
            "source": "metadata = {\n    client.repository.ModelMetaNames.NAME: MODEL_NAME,\n    client.repository.ModelMetaNames.EVALUATION_METHOD: \"binary\",\n    client.repository.ModelMetaNames.EVALUATION_METRICS: [\n        {\n            \"name\": \"areaUnderROC\",\n            \"value\": 0.7,\n            \"threshold\": 0.7\n        }\n    ]\n}\n\n# Name the columns\ncols=[\"Income\",\"AppliedOnline\",\"Residence\",\"Yrs_at_Current_Address\",\"Yrs_with_Current_Employer\",\\\n      \"Number_of_Cards\",\"Creditcard_Debt\",\"Loans\",\"Loan_Amount\",\"SalePrice\",\"Location\"]\n      \nsaved_model = client.repository.store_model(model=model, meta_props=metadata, \n                                            training_data=X_train, training_target=y_train, \n                                            feature_names=cols, label_column_names=[\"MortgageDefault\"] )\nsaved_model"
        },
        {
            "cell_type": "markdown",
            "metadata": {},
            "source": "Get the unique ID for the model so we can deploy it."
        },
        {
            "cell_type": "code",
            "execution_count": 12,
            "metadata": {},
            "outputs": [
                {
                    "data": {
                        "text/plain": "'b57f0bbd-c9f0-4145-b5de-b46097b44186'"
                    },
                    "execution_count": 12,
                    "metadata": {},
                    "output_type": "execute_result"
                }
            ],
            "source": "model_uid = saved_model['metadata']['guid']\nmodel_uid"
        },
        {
            "cell_type": "markdown",
            "metadata": {},
            "source": "Deploy the model as a web service with Watson Machine Learning."
        },
        {
            "cell_type": "code",
            "execution_count": 13,
            "metadata": {},
            "outputs": [
                {
                    "name": "stdout",
                    "output_type": "stream",
                    "text": "Deploying model...\n\n\n#######################################################################################\n\nSynchronous deployment creation for uid: 'b57f0bbd-c9f0-4145-b5de-b46097b44186' started\n\n#######################################################################################\n\n\nINITIALIZING\nDEPLOY_SUCCESS\n\n\n------------------------------------------------------------------------------------------------\nSuccessfully finished deployment creation, deployment_uid='fde50366-9f85-4357-8241-d3f8b0e0034a'\n------------------------------------------------------------------------------------------------\n\n\n"
                }
            ],
            "source": "print(\"Deploying model...\")\n\ndeployment = client.deployments.create(artifact_uid=model_uid, name=DEPLOYMENT_NAME, asynchronous=False)"
        },
        {
            "cell_type": "code",
            "execution_count": 14,
            "metadata": {},
            "outputs": [
                {
                    "name": "stdout",
                    "output_type": "stream",
                    "text": "Model id: b57f0bbd-c9f0-4145-b5de-b46097b44186\nDeployment id: fde50366-9f85-4357-8241-d3f8b0e0034a\n"
                }
            ],
            "source": "deployment_uid = client.deployments.get_uid(deployment)\n\nprint(\"Model id: {}\".format(model_uid))\nprint(\"Deployment id: {}\".format(deployment_uid))"
        },
        {
            "cell_type": "markdown",
            "metadata": {},
            "source": "## Congratulations!\n\nIf all cells have run successfully, you have successfully deployed the mortgage default model as a web service in Watson Machine Learning. You can proceed with the rest of the lab."
        },
        {
            "cell_type": "code",
            "execution_count": null,
            "metadata": {},
            "outputs": [],
            "source": ""
        }
    ],
    "metadata": {
        "kernelspec": {
            "display_name": "Python 3.6",
            "language": "python",
            "name": "python3"
        },
        "language_info": {
            "codemirror_mode": {
                "name": "ipython",
                "version": 3
            },
            "file_extension": ".py",
            "mimetype": "text/x-python",
            "name": "python",
            "nbconvert_exporter": "python",
            "pygments_lexer": "ipython3",
            "version": "3.6.9"
        }
    },
    "nbformat": 4,
    "nbformat_minor": 1
}