{
    "cells": [
        {
            "metadata": {},
            "cell_type": "markdown",
            "source": "# Watson OpenScale Mortgage Default Lab - Model Feed"
        },
        {
            "metadata": {},
            "cell_type": "markdown",
            "source": "Part two of a hands-on lab for IBM Watson OpenScale, this notebook should be run in a Watson Studio project with Python 3.6 or greater. This notebook will use the Watson Machine Learning client to send scoring requests to the model. You can specify the number of requests sent in the cells below.\n\nReplace the credentials below with those of your Watson Machine Learning instance with the mortgage default model deployed."
        },
        {
            "metadata": {},
            "cell_type": "code",
            "source": "WML_CREDENTIALS = {\n  \"apikey\": \"ClPV2HAgLhmtNxM7fSpJoVcD-4dEDnHqzdVgAK8uqWgv\",\n  \"iam_apikey_description\": \"Auto-generated for key d0a06315-c1c1-4e1d-9431-eefdb8b06026\",\n  \"iam_apikey_name\": \"Service credentials-cpat-f2f-wml\",\n  \"iam_role_crn\": \"crn:v1:bluemix:public:iam::::serviceRole:Writer\",\n  \"iam_serviceid_crn\": \"crn:v1:bluemix:public:iam-identity::a/82cf08a3d55d4f8fa8266f348d7f4362::serviceid:ServiceId-092953e7-cef8-405a-a3a5-123d5107186d\",\n  \"instance_id\": \"e88e90be-acaa-4350-954a-6d27a9e785bd\",\n  \"url\": \"https://us-south.ml.cloud.ibm.com\"\n}",
            "execution_count": 1,
            "outputs": []
        },
        {
            "metadata": {},
            "cell_type": "markdown",
            "source": "In the cell below, ensure that the model and deployment names are the same used for creating the model, and set the minimum and maximum number of records you wish to send to the model for scoring."
        },
        {
            "metadata": {},
            "cell_type": "code",
            "source": "MODEL_NAME = 'Mortgage Default'\nDEPLOYMENT_NAME = 'Mortgage Default - Production'\n\nMIN_PAYLOADS = 101\nMAX_PAYLOADS = 125",
            "execution_count": 2,
            "outputs": []
        },
        {
            "metadata": {},
            "cell_type": "markdown",
            "source": "Using the credentials from above, create a Watson Machine Learning API client."
        },
        {
            "metadata": {},
            "cell_type": "code",
            "source": "from watson_machine_learning_client import WatsonMachineLearningAPIClient\n\nclient = WatsonMachineLearningAPIClient(WML_CREDENTIALS)",
            "execution_count": 3,
            "outputs": []
        },
        {
            "metadata": {},
            "cell_type": "markdown",
            "source": "Get the deployment and model IDs from the WML client."
        },
        {
            "metadata": {},
            "cell_type": "code",
            "source": "mortgage_deployment_id = None\nmodel_deployment_ids = client.deployments.get_uids()\nfor deployment_id in model_deployment_ids:\n    deployment = client.deployments.get_details(deployment_id)\n    model_id = deployment['entity']['deployable_asset']['guid']\n    if deployment['entity']['name'] == DEPLOYMENT_NAME:\n        print('Deployment id:', deployment_id)\n        mortgage_deployment_id = deployment_id\n        print('Model id:', model_id)\n        break",
            "execution_count": 4,
            "outputs": [
                {
                    "output_type": "stream",
                    "text": "Deployment id: 351cdae8-5faf-472b-a90c-385f0623ce2b\nModel id: 6f956465-f430-4a33-a723-3e206be21809\n",
                    "name": "stdout"
                }
            ]
        },
        {
            "metadata": {},
            "cell_type": "markdown",
            "source": "Get the scoring URL of the model."
        },
        {
            "metadata": {},
            "cell_type": "code",
            "source": "deployment_details = client.deployments.get_details(mortgage_deployment_id)\nscoring_url = deployment_details['entity']['scoring_url']\nscoring_url",
            "execution_count": 5,
            "outputs": [
                {
                    "output_type": "execute_result",
                    "execution_count": 5,
                    "data": {
                        "text/plain": "'https://us-south.ml.cloud.ibm.com/v3/wml_instances/e88e90be-acaa-4350-954a-6d27a9e785bd/deployments/351cdae8-5faf-472b-a90c-385f0623ce2b/online'"
                    },
                    "metadata": {}
                }
            ]
        },
        {
            "metadata": {},
            "cell_type": "markdown",
            "source": "Download the JSON records from github."
        },
        {
            "metadata": {},
            "cell_type": "code",
            "source": "!rm mortgage_feed.json\n!wget https://raw.githubusercontent.com/emartensibm/mortgage-default/master/mortgage_feed.json",
            "execution_count": 6,
            "outputs": [
                {
                    "output_type": "stream",
                    "text": "rm: cannot remove \u2018mortgage_feed.json\u2019: No such file or directory\n--2020-03-17 02:01:51--  https://raw.githubusercontent.com/emartensibm/mortgage-default/master/mortgage_feed.json\nResolving raw.githubusercontent.com (raw.githubusercontent.com)... 151.101.36.133\nConnecting to raw.githubusercontent.com (raw.githubusercontent.com)|151.101.36.133|:443... connected.\nHTTP request sent, awaiting response... 200 OK\nLength: 32112 (31K) [text/plain]\nSaving to: \u2018mortgage_feed.json\u2019\n\n100%[======================================>] 32,112      --.-K/s   in 0.1s    \n\n2020-03-17 02:01:52 (282 KB/s) - \u2018mortgage_feed.json\u2019 saved [32112/32112]\n\n",
                    "name": "stdout"
                }
            ]
        },
        {
            "metadata": {},
            "cell_type": "code",
            "source": "import json\n\nwith open('mortgage_feed.json', 'r') as scoring_file:\n    data = json.load(scoring_file)",
            "execution_count": 7,
            "outputs": []
        },
        {
            "metadata": {},
            "cell_type": "markdown",
            "source": "Get the feature fields from the data file, dropping the transaction ID."
        },
        {
            "metadata": {},
            "cell_type": "code",
            "source": "data['fields'][1:]",
            "execution_count": 8,
            "outputs": [
                {
                    "output_type": "execute_result",
                    "execution_count": 8,
                    "data": {
                        "text/plain": "['Income',\n 'AppliedOnline',\n 'Residence',\n 'Yrs_at_Current_Address',\n 'Yrs_with_Current_Employer',\n 'Number_of_Cards',\n 'Creditcard_Debt',\n 'Loans',\n 'Loan_Amount',\n 'SalePrice',\n 'Location']"
                    },
                    "metadata": {}
                }
            ]
        },
        {
            "metadata": {},
            "cell_type": "markdown",
            "source": "Set up the data structure for scoring requests. The ID field was not a feature used to train the model, but is still used to identify the transactions. For this reason, we will send it as metadata with the request, and it will be stored in the OpenScale payload log."
        },
        {
            "metadata": {},
            "cell_type": "code",
            "source": "scoring_payload = {\n    \"fields\": data['fields'][1:],\n    \"values\": [],\n    \"meta\":{\n        \"fields\": [\"ID\"],\n        \"values\": []\n    }\n}",
            "execution_count": 9,
            "outputs": []
        },
        {
            "metadata": {},
            "cell_type": "markdown",
            "source": "Randomly select fields from the data to score, and randomly assign an integer ID to each."
        },
        {
            "metadata": {},
            "cell_type": "code",
            "source": "import random\nimport string\n\nletters = string.digits\n\nfor _ in range(0, random.randint(MIN_PAYLOADS, MAX_PAYLOADS)):\n    value_to_score = random.choice(data['values'])\n    scoring_payload['values'].append(value_to_score[1:])\n    scoring_payload['meta']['values'].append([int(''.join(random.choices(letters, k=8)))])",
            "execution_count": 10,
            "outputs": []
        },
        {
            "metadata": {},
            "cell_type": "markdown",
            "source": "Send the scoring request to the model."
        },
        {
            "metadata": {},
            "cell_type": "code",
            "source": "predictions = client.deployments.score(scoring_url, scoring_payload)",
            "execution_count": 11,
            "outputs": []
        },
        {
            "metadata": {},
            "cell_type": "markdown",
            "source": "Print out the returned predictions."
        },
        {
            "metadata": {},
            "cell_type": "code",
            "source": "predictions",
            "execution_count": 12,
            "outputs": [
                {
                    "output_type": "execute_result",
                    "execution_count": 12,
                    "data": {
                        "text/plain": "{'fields': ['prediction', 'probability'],\n 'values': [['YES', [0.0, 1.0]],\n  ['YES', [0.0, 1.0]],\n  ['YES', [0.0, 1.0]],\n  ['YES', [0.4, 0.6]],\n  ['YES', [0.0, 1.0]],\n  ['NO', [1.0, 0.0]],\n  ['YES', [0.1, 0.9]],\n  ['NO', [0.8, 0.2]],\n  ['YES', [0.3, 0.7]],\n  ['YES', [0.0, 1.0]],\n  ['YES', [0.0, 1.0]],\n  ['YES', [0.0, 1.0]],\n  ['NO', [1.0, 0.0]],\n  ['YES', [0.0, 1.0]],\n  ['NO', [0.8, 0.2]],\n  ['NO', [0.6, 0.4]],\n  ['YES', [0.1, 0.9]],\n  ['YES', [0.0, 1.0]],\n  ['NO', [0.9, 0.1]],\n  ['NO', [0.9, 0.1]],\n  ['YES', [0.0, 1.0]],\n  ['NO', [1.0, 0.0]],\n  ['YES', [0.1, 0.9]],\n  ['YES', [0.0, 1.0]],\n  ['NO', [0.8, 0.2]],\n  ['NO', [0.9, 0.1]],\n  ['NO', [0.5, 0.5]],\n  ['YES', [0.0, 1.0]],\n  ['YES', [0.3, 0.7]],\n  ['YES', [0.1, 0.9]],\n  ['NO', [0.8, 0.2]],\n  ['NO', [0.7, 0.3]],\n  ['YES', [0.0, 1.0]],\n  ['YES', [0.14166666666666666, 0.8583333333333334]],\n  ['YES', [0.2, 0.8]],\n  ['YES', [0.1, 0.9]],\n  ['NO', [0.9, 0.1]],\n  ['YES', [0.1, 0.9]],\n  ['NO', [0.9, 0.1]],\n  ['YES', [0.0, 1.0]],\n  ['YES', [0.2, 0.8]],\n  ['NO', [1.0, 0.0]],\n  ['NO', [0.9, 0.1]],\n  ['NO', [0.7, 0.3]],\n  ['NO', [0.6, 0.4]],\n  ['YES', [0.4, 0.6]],\n  ['NO', [1.0, 0.0]],\n  ['YES', [0.0, 1.0]],\n  ['NO', [0.9, 0.1]],\n  ['NO', [1.0, 0.0]],\n  ['NO', [0.6666666666666667, 0.33333333333333337]],\n  ['YES', [0.3, 0.7]],\n  ['YES', [0.4, 0.6]],\n  ['NO', [0.7, 0.3]],\n  ['NO', [0.8, 0.2]],\n  ['YES', [0.1, 0.9]],\n  ['NO', [1.0, 0.0]],\n  ['NO', [1.0, 0.0]],\n  ['YES', [0.0, 1.0]],\n  ['YES', [0.1, 0.9]],\n  ['YES', [0.1, 0.9]],\n  ['NO', [0.8, 0.2]],\n  ['NO', [0.9, 0.1]],\n  ['YES', [0.1, 0.9]],\n  ['NO', [1.0, 0.0]],\n  ['YES', [0.44333333333333325, 0.5566666666666668]],\n  ['YES', [0.1, 0.9]],\n  ['YES', [0.3, 0.7]],\n  ['NO', [0.7, 0.3]],\n  ['YES', [0.2, 0.8]],\n  ['YES', [0.1, 0.9]],\n  ['NO', [1.0, 0.0]],\n  ['NO', [0.5416666666666667, 0.4583333333333333]],\n  ['NO', [0.9, 0.1]],\n  ['NO', [0.9, 0.1]],\n  ['YES', [0.0, 1.0]],\n  ['YES', [0.1, 0.9]],\n  ['YES', [0.2, 0.8]],\n  ['YES', [0.2, 0.8]],\n  ['NO', [0.8, 0.2]],\n  ['YES', [0.0, 1.0]],\n  ['YES', [0.0, 1.0]],\n  ['NO', [0.9, 0.1]],\n  ['NO', [0.5, 0.5]],\n  ['NO', [0.7, 0.3]],\n  ['NO', [0.8, 0.2]],\n  ['NO', [0.9, 0.1]],\n  ['NO', [1.0, 0.0]],\n  ['NO', [1.0, 0.0]],\n  ['YES', [0.3, 0.7]],\n  ['NO', [1.0, 0.0]],\n  ['NO', [0.9, 0.1]],\n  ['YES', [0.3, 0.7]],\n  ['NO', [0.8, 0.2]],\n  ['NO', [1.0, 0.0]],\n  ['NO', [0.9, 0.1]],\n  ['YES', [0.0, 1.0]],\n  ['YES', [0.4, 0.6]],\n  ['YES', [0.1, 0.9]],\n  ['NO', [1.0, 0.0]],\n  ['NO', [0.8, 0.2]],\n  ['NO', [1.0, 0.0]],\n  ['YES', [0.2, 0.8]],\n  ['NO', [0.55, 0.45]],\n  ['YES', [0.35, 0.65]],\n  ['NO', [0.7, 0.3]],\n  ['NO', [0.7, 0.3]],\n  ['YES', [0.0, 1.0]],\n  ['NO', [0.9, 0.1]],\n  ['YES', [0.4, 0.6]],\n  ['YES', [0.1, 0.9]],\n  ['NO', [0.9, 0.1]],\n  ['NO', [1.0, 0.0]],\n  ['NO', [0.5, 0.5]],\n  ['NO', [1.0, 0.0]]]}"
                    },
                    "metadata": {}
                }
            ]
        },
        {
            "metadata": {},
            "cell_type": "markdown",
            "source": "# Congratulations!\n\nIf all cells have run successfully, you have submitted data to your model. You can save a version of this notebook using the **File** menu above, and schedule it to run periodically to continue sending data for OpenScale to monitor.\n\nThis menu can be scheduled to run regularly to feed data to the model and trigger the OpenScale monitors. To schedule it, click **File**->**Save Version**. Once the notebook has saved, click the **clock icon** to the right of the **share icon** in the top center of the screen and follow the prompts. Running it hourly will provide the best results."
        },
        {
            "metadata": {},
            "cell_type": "code",
            "source": "",
            "execution_count": null,
            "outputs": []
        }
    ],
    "metadata": {
        "kernelspec": {
            "name": "python3",
            "display_name": "Python 3.6",
            "language": "python"
        },
        "language_info": {
            "name": "python",
            "version": "3.6.9",
            "mimetype": "text/x-python",
            "codemirror_mode": {
                "name": "ipython",
                "version": 3
            },
            "pygments_lexer": "ipython3",
            "nbconvert_exporter": "python",
            "file_extension": ".py"
        }
    },
    "nbformat": 4,
    "nbformat_minor": 1
}